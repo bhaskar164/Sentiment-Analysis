{
 "cells": [
  {
   "cell_type": "code",
   "execution_count": 1,
   "metadata": {},
   "outputs": [],
   "source": [
    "import numpy as np\n",
    "import pandas as pd"
   ]
  },
  {
   "cell_type": "code",
   "execution_count": 2,
   "metadata": {},
   "outputs": [],
   "source": [
    "#Data Analysis............\n",
    "twitter_train = pd.read_csv('twitter_train.csv')"
   ]
  },
  {
   "cell_type": "code",
   "execution_count": 3,
   "metadata": {},
   "outputs": [],
   "source": [
    "twitter_test = pd.read_csv('twitter_test.csv')"
   ]
  },
  {
   "cell_type": "code",
   "execution_count": 4,
   "metadata": {},
   "outputs": [
    {
     "data": {
      "text/plain": [
       "(10980, 12)"
      ]
     },
     "execution_count": 4,
     "metadata": {},
     "output_type": "execute_result"
    }
   ],
   "source": [
    "twitter_train.shape"
   ]
  },
  {
   "cell_type": "code",
   "execution_count": 5,
   "metadata": {},
   "outputs": [
    {
     "data": {
      "text/plain": [
       "(3660, 11)"
      ]
     },
     "execution_count": 5,
     "metadata": {},
     "output_type": "execute_result"
    }
   ],
   "source": [
    "twitter_test.shape"
   ]
  },
  {
   "cell_type": "code",
   "execution_count": 6,
   "metadata": {},
   "outputs": [
    {
     "data": {
      "text/html": [
       "<div>\n",
       "<style scoped>\n",
       "    .dataframe tbody tr th:only-of-type {\n",
       "        vertical-align: middle;\n",
       "    }\n",
       "\n",
       "    .dataframe tbody tr th {\n",
       "        vertical-align: top;\n",
       "    }\n",
       "\n",
       "    .dataframe thead th {\n",
       "        text-align: right;\n",
       "    }\n",
       "</style>\n",
       "<table border=\"1\" class=\"dataframe\">\n",
       "  <thead>\n",
       "    <tr style=\"text-align: right;\">\n",
       "      <th></th>\n",
       "      <th>tweet_id</th>\n",
       "      <th>airline_sentiment</th>\n",
       "      <th>airline</th>\n",
       "      <th>airline_sentiment_gold</th>\n",
       "      <th>name</th>\n",
       "      <th>negativereason_gold</th>\n",
       "      <th>retweet_count</th>\n",
       "      <th>text</th>\n",
       "      <th>tweet_coord</th>\n",
       "      <th>tweet_created</th>\n",
       "      <th>tweet_location</th>\n",
       "      <th>user_timezone</th>\n",
       "    </tr>\n",
       "  </thead>\n",
       "  <tbody>\n",
       "    <tr>\n",
       "      <th>0</th>\n",
       "      <td>567900433542488064</td>\n",
       "      <td>negative</td>\n",
       "      <td>Southwest</td>\n",
       "      <td>NaN</td>\n",
       "      <td>ColeyGirouard</td>\n",
       "      <td>NaN</td>\n",
       "      <td>0</td>\n",
       "      <td>@SouthwestAir I am scheduled for the morning, ...</td>\n",
       "      <td>NaN</td>\n",
       "      <td>2015-02-17 20:16:29 -0800</td>\n",
       "      <td>Washington D.C.</td>\n",
       "      <td>Atlantic Time (Canada)</td>\n",
       "    </tr>\n",
       "    <tr>\n",
       "      <th>1</th>\n",
       "      <td>569989168903819264</td>\n",
       "      <td>positive</td>\n",
       "      <td>Southwest</td>\n",
       "      <td>NaN</td>\n",
       "      <td>WalterFaddoul</td>\n",
       "      <td>NaN</td>\n",
       "      <td>0</td>\n",
       "      <td>@SouthwestAir seeing your workers time in and ...</td>\n",
       "      <td>NaN</td>\n",
       "      <td>2015-02-23 14:36:22 -0800</td>\n",
       "      <td>Indianapolis, Indiana; USA</td>\n",
       "      <td>Central Time (US &amp; Canada)</td>\n",
       "    </tr>\n",
       "    <tr>\n",
       "      <th>2</th>\n",
       "      <td>568089179520954368</td>\n",
       "      <td>positive</td>\n",
       "      <td>United</td>\n",
       "      <td>NaN</td>\n",
       "      <td>LocalKyle</td>\n",
       "      <td>NaN</td>\n",
       "      <td>0</td>\n",
       "      <td>@united Flew ORD to Miami and back and  had gr...</td>\n",
       "      <td>NaN</td>\n",
       "      <td>2015-02-18 08:46:29 -0800</td>\n",
       "      <td>Illinois</td>\n",
       "      <td>Central Time (US &amp; Canada)</td>\n",
       "    </tr>\n",
       "    <tr>\n",
       "      <th>3</th>\n",
       "      <td>568928195581513728</td>\n",
       "      <td>negative</td>\n",
       "      <td>Southwest</td>\n",
       "      <td>NaN</td>\n",
       "      <td>amccarthy19</td>\n",
       "      <td>NaN</td>\n",
       "      <td>0</td>\n",
       "      <td>@SouthwestAir @dultch97 that's horse radish 😤🐴</td>\n",
       "      <td>NaN</td>\n",
       "      <td>2015-02-20 16:20:26 -0800</td>\n",
       "      <td>NaN</td>\n",
       "      <td>Atlantic Time (Canada)</td>\n",
       "    </tr>\n",
       "    <tr>\n",
       "      <th>4</th>\n",
       "      <td>568594180014014464</td>\n",
       "      <td>negative</td>\n",
       "      <td>United</td>\n",
       "      <td>NaN</td>\n",
       "      <td>J_Okayy</td>\n",
       "      <td>NaN</td>\n",
       "      <td>0</td>\n",
       "      <td>@united so our flight into ORD was delayed bec...</td>\n",
       "      <td>NaN</td>\n",
       "      <td>2015-02-19 18:13:11 -0800</td>\n",
       "      <td>NaN</td>\n",
       "      <td>Eastern Time (US &amp; Canada)</td>\n",
       "    </tr>\n",
       "  </tbody>\n",
       "</table>\n",
       "</div>"
      ],
      "text/plain": [
       "             tweet_id airline_sentiment    airline airline_sentiment_gold  \\\n",
       "0  567900433542488064          negative  Southwest                    NaN   \n",
       "1  569989168903819264          positive  Southwest                    NaN   \n",
       "2  568089179520954368          positive     United                    NaN   \n",
       "3  568928195581513728          negative  Southwest                    NaN   \n",
       "4  568594180014014464          negative     United                    NaN   \n",
       "\n",
       "            name negativereason_gold  retweet_count  \\\n",
       "0  ColeyGirouard                 NaN              0   \n",
       "1  WalterFaddoul                 NaN              0   \n",
       "2      LocalKyle                 NaN              0   \n",
       "3    amccarthy19                 NaN              0   \n",
       "4        J_Okayy                 NaN              0   \n",
       "\n",
       "                                                text tweet_coord  \\\n",
       "0  @SouthwestAir I am scheduled for the morning, ...         NaN   \n",
       "1  @SouthwestAir seeing your workers time in and ...         NaN   \n",
       "2  @united Flew ORD to Miami and back and  had gr...         NaN   \n",
       "3     @SouthwestAir @dultch97 that's horse radish 😤🐴         NaN   \n",
       "4  @united so our flight into ORD was delayed bec...         NaN   \n",
       "\n",
       "               tweet_created              tweet_location  \\\n",
       "0  2015-02-17 20:16:29 -0800             Washington D.C.   \n",
       "1  2015-02-23 14:36:22 -0800  Indianapolis, Indiana; USA   \n",
       "2  2015-02-18 08:46:29 -0800                    Illinois   \n",
       "3  2015-02-20 16:20:26 -0800                         NaN   \n",
       "4  2015-02-19 18:13:11 -0800                         NaN   \n",
       "\n",
       "                user_timezone  \n",
       "0      Atlantic Time (Canada)  \n",
       "1  Central Time (US & Canada)  \n",
       "2  Central Time (US & Canada)  \n",
       "3      Atlantic Time (Canada)  \n",
       "4  Eastern Time (US & Canada)  "
      ]
     },
     "execution_count": 6,
     "metadata": {},
     "output_type": "execute_result"
    }
   ],
   "source": [
    "twitter_train.head()"
   ]
  },
  {
   "cell_type": "code",
   "execution_count": 7,
   "metadata": {},
   "outputs": [
    {
     "data": {
      "text/html": [
       "<div>\n",
       "<style scoped>\n",
       "    .dataframe tbody tr th:only-of-type {\n",
       "        vertical-align: middle;\n",
       "    }\n",
       "\n",
       "    .dataframe tbody tr th {\n",
       "        vertical-align: top;\n",
       "    }\n",
       "\n",
       "    .dataframe thead th {\n",
       "        text-align: right;\n",
       "    }\n",
       "</style>\n",
       "<table border=\"1\" class=\"dataframe\">\n",
       "  <thead>\n",
       "    <tr style=\"text-align: right;\">\n",
       "      <th></th>\n",
       "      <th>tweet_id</th>\n",
       "      <th>airline</th>\n",
       "      <th>airline_sentiment_gold</th>\n",
       "      <th>name</th>\n",
       "      <th>negativereason_gold</th>\n",
       "      <th>retweet_count</th>\n",
       "      <th>text</th>\n",
       "      <th>tweet_coord</th>\n",
       "      <th>tweet_created</th>\n",
       "      <th>tweet_location</th>\n",
       "      <th>user_timezone</th>\n",
       "    </tr>\n",
       "  </thead>\n",
       "  <tbody>\n",
       "    <tr>\n",
       "      <th>0</th>\n",
       "      <td>569682010270101504</td>\n",
       "      <td>American</td>\n",
       "      <td>NaN</td>\n",
       "      <td>zsalim03</td>\n",
       "      <td>NaN</td>\n",
       "      <td>0</td>\n",
       "      <td>@AmericanAir In car gng to DFW. Pulled over 1h...</td>\n",
       "      <td>NaN</td>\n",
       "      <td>2015-02-22 18:15:50 -0800</td>\n",
       "      <td>Texas</td>\n",
       "      <td>Central Time (US &amp; Canada)</td>\n",
       "    </tr>\n",
       "    <tr>\n",
       "      <th>1</th>\n",
       "      <td>569608307184242688</td>\n",
       "      <td>American</td>\n",
       "      <td>NaN</td>\n",
       "      <td>sa_craig</td>\n",
       "      <td>NaN</td>\n",
       "      <td>0</td>\n",
       "      <td>@AmericanAir after all, the plane didn’t land ...</td>\n",
       "      <td>NaN</td>\n",
       "      <td>2015-02-22 13:22:57 -0800</td>\n",
       "      <td>College Station, TX</td>\n",
       "      <td>Central Time (US &amp; Canada)</td>\n",
       "    </tr>\n",
       "    <tr>\n",
       "      <th>2</th>\n",
       "      <td>567879304593408001</td>\n",
       "      <td>Southwest</td>\n",
       "      <td>NaN</td>\n",
       "      <td>DanaChristos</td>\n",
       "      <td>NaN</td>\n",
       "      <td>1</td>\n",
       "      <td>@SouthwestAir can't believe how many paying cu...</td>\n",
       "      <td>NaN</td>\n",
       "      <td>2015-02-17 18:52:31 -0800</td>\n",
       "      <td>CT</td>\n",
       "      <td>Eastern Time (US &amp; Canada)</td>\n",
       "    </tr>\n",
       "    <tr>\n",
       "      <th>3</th>\n",
       "      <td>569757651539660801</td>\n",
       "      <td>US Airways</td>\n",
       "      <td>NaN</td>\n",
       "      <td>rossj987</td>\n",
       "      <td>NaN</td>\n",
       "      <td>0</td>\n",
       "      <td>@USAirways I can legitimately say that I would...</td>\n",
       "      <td>NaN</td>\n",
       "      <td>2015-02-22 23:16:24 -0800</td>\n",
       "      <td>Washington, D.C.</td>\n",
       "      <td>Eastern Time (US &amp; Canada)</td>\n",
       "    </tr>\n",
       "    <tr>\n",
       "      <th>4</th>\n",
       "      <td>569900705852608513</td>\n",
       "      <td>American</td>\n",
       "      <td>NaN</td>\n",
       "      <td>tranpham18</td>\n",
       "      <td>NaN</td>\n",
       "      <td>0</td>\n",
       "      <td>@AmericanAir still no response from AA. great ...</td>\n",
       "      <td>NaN</td>\n",
       "      <td>2015-02-23 08:44:51 -0800</td>\n",
       "      <td>New York City</td>\n",
       "      <td>Eastern Time (US &amp; Canada)</td>\n",
       "    </tr>\n",
       "  </tbody>\n",
       "</table>\n",
       "</div>"
      ],
      "text/plain": [
       "             tweet_id     airline airline_sentiment_gold          name  \\\n",
       "0  569682010270101504    American                    NaN      zsalim03   \n",
       "1  569608307184242688    American                    NaN      sa_craig   \n",
       "2  567879304593408001   Southwest                    NaN  DanaChristos   \n",
       "3  569757651539660801  US Airways                    NaN      rossj987   \n",
       "4  569900705852608513    American                    NaN    tranpham18   \n",
       "\n",
       "  negativereason_gold  retweet_count  \\\n",
       "0                 NaN              0   \n",
       "1                 NaN              0   \n",
       "2                 NaN              1   \n",
       "3                 NaN              0   \n",
       "4                 NaN              0   \n",
       "\n",
       "                                                text tweet_coord  \\\n",
       "0  @AmericanAir In car gng to DFW. Pulled over 1h...         NaN   \n",
       "1  @AmericanAir after all, the plane didn’t land ...         NaN   \n",
       "2  @SouthwestAir can't believe how many paying cu...         NaN   \n",
       "3  @USAirways I can legitimately say that I would...         NaN   \n",
       "4  @AmericanAir still no response from AA. great ...         NaN   \n",
       "\n",
       "               tweet_created       tweet_location               user_timezone  \n",
       "0  2015-02-22 18:15:50 -0800                Texas  Central Time (US & Canada)  \n",
       "1  2015-02-22 13:22:57 -0800  College Station, TX  Central Time (US & Canada)  \n",
       "2  2015-02-17 18:52:31 -0800                   CT  Eastern Time (US & Canada)  \n",
       "3  2015-02-22 23:16:24 -0800     Washington, D.C.  Eastern Time (US & Canada)  \n",
       "4  2015-02-23 08:44:51 -0800        New York City  Eastern Time (US & Canada)  "
      ]
     },
     "execution_count": 7,
     "metadata": {},
     "output_type": "execute_result"
    }
   ],
   "source": [
    "twitter_test.head()"
   ]
  },
  {
   "cell_type": "code",
   "execution_count": 8,
   "metadata": {},
   "outputs": [
    {
     "data": {
      "text/plain": [
       "tweet_id                      0\n",
       "airline_sentiment             0\n",
       "airline                       0\n",
       "airline_sentiment_gold    10949\n",
       "name                          0\n",
       "negativereason_gold       10956\n",
       "retweet_count                 0\n",
       "text                          0\n",
       "tweet_coord               10204\n",
       "tweet_created                 0\n",
       "tweet_location             3550\n",
       "user_timezone              3577\n",
       "dtype: int64"
      ]
     },
     "execution_count": 8,
     "metadata": {},
     "output_type": "execute_result"
    }
   ],
   "source": [
    "twitter_train.isnull().sum()"
   ]
  },
  {
   "cell_type": "code",
   "execution_count": 9,
   "metadata": {},
   "outputs": [
    {
     "data": {
      "text/plain": [
       "Index(['tweet_id', 'airline_sentiment', 'airline', 'airline_sentiment_gold',\n",
       "       'name', 'negativereason_gold', 'retweet_count', 'text', 'tweet_coord',\n",
       "       'tweet_created', 'tweet_location', 'user_timezone'],\n",
       "      dtype='object')"
      ]
     },
     "execution_count": 9,
     "metadata": {},
     "output_type": "execute_result"
    }
   ],
   "source": [
    "twitter_train.columns"
   ]
  },
  {
   "cell_type": "code",
   "execution_count": 10,
   "metadata": {},
   "outputs": [
    {
     "data": {
      "text/plain": [
       "{0, 1, 2, 3, 4, 5, 6, 7, 8, 15, 18, 22, 28, 31, 44}"
      ]
     },
     "execution_count": 10,
     "metadata": {},
     "output_type": "execute_result"
    }
   ],
   "source": [
    "set(twitter_train['retweet_count'].values)"
   ]
  },
  {
   "cell_type": "code",
   "execution_count": 11,
   "metadata": {},
   "outputs": [
    {
     "data": {
      "text/plain": [
       "{'negative', 'neutral', 'positive'}"
      ]
     },
     "execution_count": 11,
     "metadata": {},
     "output_type": "execute_result"
    }
   ],
   "source": [
    "set(twitter_train['airline_sentiment'].values)"
   ]
  },
  {
   "cell_type": "code",
   "execution_count": 12,
   "metadata": {},
   "outputs": [
    {
     "data": {
      "text/plain": [
       "{'American', 'Delta', 'Southwest', 'US Airways', 'United', 'Virgin America'}"
      ]
     },
     "execution_count": 12,
     "metadata": {},
     "output_type": "execute_result"
    }
   ],
   "source": [
    "set(twitter_train['airline'].values)"
   ]
  },
  {
   "cell_type": "code",
   "execution_count": 13,
   "metadata": {},
   "outputs": [
    {
     "data": {
      "text/plain": [
       "2"
      ]
     },
     "execution_count": 13,
     "metadata": {},
     "output_type": "execute_result"
    }
   ],
   "source": [
    "ex = []\n",
    "ex.append([(twitter_train.loc[2,'text'], 'negative')])\n",
    "ex.append([(twitter_train.loc[2,'text'], 'negative')])\n",
    "ex[0]\n",
    "len(ex)"
   ]
  },
  {
   "cell_type": "code",
   "execution_count": 14,
   "metadata": {},
   "outputs": [],
   "source": [
    "##Fetching Text and Sentiments for applying NLP on xtrain\n",
    "def Fetch_Text_sent(data):\n",
    "    tweet_text = []\n",
    "    row = data.shape[0]\n",
    "    for i in range(row):\n",
    "        tweet_text.append((data.loc[i,'text'] , data.loc[i,'airline_sentiment']))\n",
    "    return tweet_text"
   ]
  },
  {
   "cell_type": "code",
   "execution_count": 15,
   "metadata": {},
   "outputs": [],
   "source": [
    "##Fetching Text and Sentiments for applying NLP on xtest\n",
    "def Fetch_Text_sent_xtest(data):\n",
    "    tweet_text = []\n",
    "    row = data.shape[0]\n",
    "    for i in range(row):\n",
    "        tweet_text.append(data.loc[i,'text'])\n",
    "    return tweet_text"
   ]
  },
  {
   "cell_type": "code",
   "execution_count": 16,
   "metadata": {},
   "outputs": [
    {
     "data": {
      "text/plain": [
       "5"
      ]
     },
     "execution_count": 16,
     "metadata": {},
     "output_type": "execute_result"
    }
   ],
   "source": [
    "##Checking function Fetch_Text_sent()\n",
    "sample = twitter_train.iloc[0:5,0:]\n",
    "xtrain = Fetch_Text_sent(sample)\n",
    "len(xtrain)"
   ]
  },
  {
   "cell_type": "code",
   "execution_count": 17,
   "metadata": {},
   "outputs": [
    {
     "data": {
      "text/plain": [
       "10980"
      ]
     },
     "execution_count": 17,
     "metadata": {},
     "output_type": "execute_result"
    }
   ],
   "source": [
    "nlp_xtrain=[('','')]\n",
    "nlp_xtrain = Fetch_Text_sent(twitter_train.iloc[0:,0:])\n",
    "len(nlp_xtrain)"
   ]
  },
  {
   "cell_type": "code",
   "execution_count": 18,
   "metadata": {},
   "outputs": [
    {
     "data": {
      "text/plain": [
       "3660"
      ]
     },
     "execution_count": 18,
     "metadata": {},
     "output_type": "execute_result"
    }
   ],
   "source": [
    "nlp_xtest=[('','')]\n",
    "nlp_xtest = Fetch_Text_sent_xtest(twitter_test.iloc[0:,0:])\n",
    "len(nlp_xtest)"
   ]
  },
  {
   "cell_type": "code",
   "execution_count": 19,
   "metadata": {},
   "outputs": [],
   "source": [
    "from nltk import WordNetLemmatizer as WL\n",
    "from nltk.corpus import wordnet\n",
    "from nltk.tokenize import word_tokenize as WT\n",
    "from nltk import pos_tag"
   ]
  },
  {
   "cell_type": "code",
   "execution_count": 20,
   "metadata": {},
   "outputs": [],
   "source": [
    "###Getting words from train and test data\n",
    "\n",
    "xtrain_word = []\n",
    "for text in nlp_xtrain:\n",
    "    xtrain_word.append([WT(text[0]) , text[1]])"
   ]
  },
  {
   "cell_type": "code",
   "execution_count": 21,
   "metadata": {},
   "outputs": [],
   "source": [
    "xtest_word = []\n",
    "for text in nlp_xtest:\n",
    "    xtest_word.append(WT(text))"
   ]
  },
  {
   "cell_type": "code",
   "execution_count": 22,
   "metadata": {},
   "outputs": [
    {
     "data": {
      "text/plain": [
       "['@',\n",
       " 'AmericanAir',\n",
       " 'In',\n",
       " 'car',\n",
       " 'gng',\n",
       " 'to',\n",
       " 'DFW',\n",
       " '.',\n",
       " 'Pulled',\n",
       " 'over',\n",
       " '1hr',\n",
       " 'ago',\n",
       " '-',\n",
       " 'very',\n",
       " 'icy',\n",
       " 'roads',\n",
       " '.',\n",
       " 'On-hold',\n",
       " 'with',\n",
       " 'AA',\n",
       " 'since',\n",
       " '1hr',\n",
       " '.',\n",
       " 'Ca',\n",
       " \"n't\",\n",
       " 'reach',\n",
       " 'arpt',\n",
       " 'for',\n",
       " 'AA2450',\n",
       " '.',\n",
       " 'Wat',\n",
       " '2',\n",
       " 'do',\n",
       " '?']"
      ]
     },
     "execution_count": 22,
     "metadata": {},
     "output_type": "execute_result"
    }
   ],
   "source": [
    "xtest_word[0]"
   ]
  },
  {
   "cell_type": "code",
   "execution_count": 23,
   "metadata": {},
   "outputs": [],
   "source": [
    "import string\n",
    "from nltk.corpus import stopwords\n",
    "stop = stopwords.words('english')\n",
    "punc = list(string.punctuation)\n",
    "stop = stop+punc"
   ]
  },
  {
   "cell_type": "code",
   "execution_count": 24,
   "metadata": {},
   "outputs": [],
   "source": [
    "def get_simple_tag(tag):\n",
    "    if tag.startswith('J'):\n",
    "        return wordnet.ADJ\n",
    "    elif tag.startswith('V'):\n",
    "        return wordnet.VERB\n",
    "    elif tag.startswith('N'):\n",
    "        return wordnet.NOUN\n",
    "    elif tag.startswith('R'):\n",
    "        return wordnet.ADV\n",
    "    else:\n",
    "        return wordnet.NOUN"
   ]
  },
  {
   "cell_type": "code",
   "execution_count": 25,
   "metadata": {},
   "outputs": [],
   "source": [
    "#Function to remove stop words alphanums , applying lemmatizer\n",
    "def clean_reviews(word):\n",
    "    output_words = []\n",
    "    for w in word:\n",
    "        if ((w.lower() not in stop) and (w.isalpha())):\n",
    "            pos = pos_tag([w])\n",
    "            lemm = WL()\n",
    "            lem_word = lemm.lemmatize(w,pos = get_simple_tag(pos[0][1]))\n",
    "            output_words.append(lem_word.lower())\n",
    "    return output_words"
   ]
  },
  {
   "cell_type": "code",
   "execution_count": 26,
   "metadata": {},
   "outputs": [
    {
     "data": {
      "text/plain": [
       "[(['southwestair',\n",
       "   'schedule',\n",
       "   'morning',\n",
       "   'day',\n",
       "   'fact',\n",
       "   'sure',\n",
       "   'even',\n",
       "   'flight',\n",
       "   'one',\n",
       "   'cancelled',\n",
       "   'flightled'],\n",
       "  'negative'),\n",
       " (['southwestair',\n",
       "   'see',\n",
       "   'worker',\n",
       "   'time',\n",
       "   'time',\n",
       "   'go',\n",
       "   'beyond',\n",
       "   'love',\n",
       "   'fly',\n",
       "   'guy',\n",
       "   'thank'],\n",
       "  'positive'),\n",
       " (['united',\n",
       "   'flew',\n",
       "   'ord',\n",
       "   'miami',\n",
       "   'back',\n",
       "   'great',\n",
       "   'crew',\n",
       "   'service',\n",
       "   'leg',\n",
       "   'thanks'],\n",
       "  'positive'),\n",
       " (['southwestair', 'horse', 'radish'], 'negative'),\n",
       " (['united',\n",
       "   'flight',\n",
       "   'ord',\n",
       "   'delayed',\n",
       "   'air',\n",
       "   'force',\n",
       "   'one',\n",
       "   'last',\n",
       "   'flight',\n",
       "   'sbn',\n",
       "   'min',\n",
       "   'land'],\n",
       "  'negative')]"
      ]
     },
     "execution_count": 26,
     "metadata": {},
     "output_type": "execute_result"
    }
   ],
   "source": [
    "#cleaning train data\n",
    "clean_data = []\n",
    "for doc in xtrain_word:\n",
    "    text = clean_reviews(doc[0])\n",
    "    if len(text)>0:\n",
    "        clean_data.append((text,doc[1]))\n",
    "clean_data[0:5]"
   ]
  },
  {
   "cell_type": "code",
   "execution_count": 27,
   "metadata": {},
   "outputs": [
    {
     "data": {
      "text/plain": [
       "10980"
      ]
     },
     "execution_count": 27,
     "metadata": {},
     "output_type": "execute_result"
    }
   ],
   "source": [
    "len(clean_data)"
   ]
  },
  {
   "cell_type": "code",
   "execution_count": 28,
   "metadata": {},
   "outputs": [
    {
     "data": {
      "text/plain": [
       "[['americanair',\n",
       "  'car',\n",
       "  'gng',\n",
       "  'dfw',\n",
       "  'pulled',\n",
       "  'ago',\n",
       "  'icy',\n",
       "  'road',\n",
       "  'aa',\n",
       "  'since',\n",
       "  'ca',\n",
       "  'reach',\n",
       "  'arpt',\n",
       "  'wat'],\n",
       " ['americanair',\n",
       "  'plane',\n",
       "  'land',\n",
       "  'identical',\n",
       "  'bad',\n",
       "  'condition',\n",
       "  'grk',\n",
       "  'accord',\n",
       "  'metars'],\n",
       " ['southwestair',\n",
       "  'ca',\n",
       "  'believe',\n",
       "  'many',\n",
       "  'pay',\n",
       "  'customer',\n",
       "  'left',\n",
       "  'high',\n",
       "  'dry',\n",
       "  'reason',\n",
       "  'flight',\n",
       "  'cancelled',\n",
       "  'flightlations',\n",
       "  'monday',\n",
       "  'bdl',\n",
       "  'wow'],\n",
       " ['usairways',\n",
       "  'legitimately',\n",
       "  'say',\n",
       "  'would',\n",
       "  'rather',\n",
       "  'driven',\n",
       "  'cross',\n",
       "  'country',\n",
       "  'flown',\n",
       "  'us',\n",
       "  'airways'],\n",
       " ['americanair', 'still', 'response', 'aa', 'great', 'job', 'guy']]"
      ]
     },
     "execution_count": 28,
     "metadata": {},
     "output_type": "execute_result"
    }
   ],
   "source": [
    "#Cleaning Test Data\n",
    "cleanTest_data = []\n",
    "for doc in xtest_word:\n",
    "    cleanTest_data.append(clean_reviews(doc))\n",
    "cleanTest_data[0:5]"
   ]
  },
  {
   "cell_type": "code",
   "execution_count": 29,
   "metadata": {},
   "outputs": [
    {
     "data": {
      "text/plain": [
       "3660"
      ]
     },
     "execution_count": 29,
     "metadata": {},
     "output_type": "execute_result"
    }
   ],
   "source": [
    "len(cleanTest_data)"
   ]
  },
  {
   "cell_type": "code",
   "execution_count": 30,
   "metadata": {},
   "outputs": [],
   "source": [
    "from sklearn.feature_extraction.text import CountVectorizer\n",
    "categories = [categ for doc,categ in clean_data] "
   ]
  },
  {
   "cell_type": "code",
   "execution_count": 31,
   "metadata": {},
   "outputs": [
    {
     "data": {
      "text/plain": [
       "'positive'"
      ]
     },
     "execution_count": 31,
     "metadata": {},
     "output_type": "execute_result"
    }
   ],
   "source": [
    "categories[2]"
   ]
  },
  {
   "cell_type": "code",
   "execution_count": 32,
   "metadata": {},
   "outputs": [],
   "source": [
    "text_docs =  [\" \".join(doc) for doc,categ in clean_data] "
   ]
  },
  {
   "cell_type": "code",
   "execution_count": 33,
   "metadata": {},
   "outputs": [],
   "source": [
    "test_text_docs = [\" \".join(doc) for doc in cleanTest_data] "
   ]
  },
  {
   "cell_type": "code",
   "execution_count": 34,
   "metadata": {},
   "outputs": [
    {
     "data": {
      "text/plain": [
       "'usairways legitimately say would rather driven cross country flown us airways'"
      ]
     },
     "execution_count": 34,
     "metadata": {},
     "output_type": "execute_result"
    }
   ],
   "source": [
    "test_text_docs[3]"
   ]
  },
  {
   "cell_type": "code",
   "execution_count": 35,
   "metadata": {},
   "outputs": [],
   "source": [
    "count_vec = CountVectorizer(stop_words = stop,max_features=3000)"
   ]
  },
  {
   "cell_type": "code",
   "execution_count": 36,
   "metadata": {},
   "outputs": [],
   "source": [
    "x_train = count_vec.fit_transform(text_docs)"
   ]
  },
  {
   "cell_type": "code",
   "execution_count": 37,
   "metadata": {},
   "outputs": [
    {
     "data": {
      "text/plain": [
       "(10980, 3000)"
      ]
     },
     "execution_count": 37,
     "metadata": {},
     "output_type": "execute_result"
    }
   ],
   "source": [
    "x_train.shape"
   ]
  },
  {
   "cell_type": "code",
   "execution_count": 38,
   "metadata": {},
   "outputs": [
    {
     "data": {
      "text/plain": [
       "'southwestair aarp appreciate tweet back unexpected'"
      ]
     },
     "execution_count": 38,
     "metadata": {},
     "output_type": "execute_result"
    }
   ],
   "source": [
    "test_text_docs[20]"
   ]
  },
  {
   "cell_type": "code",
   "execution_count": 39,
   "metadata": {},
   "outputs": [
    {
     "data": {
      "text/plain": [
       "['aa',\n",
       " 'aadvantage',\n",
       " 'abandon',\n",
       " 'abc',\n",
       " 'ability',\n",
       " 'able',\n",
       " 'aboard',\n",
       " 'abq',\n",
       " 'absolute',\n",
       " 'absolutely',\n",
       " 'absurd',\n",
       " 'abt',\n",
       " 'abuse',\n",
       " 'abysmal',\n",
       " 'ac',\n",
       " 'accept',\n",
       " 'acceptable',\n",
       " 'accepted',\n",
       " 'access',\n",
       " 'accident',\n",
       " 'accidentally',\n",
       " 'accommodate',\n",
       " 'accommodation',\n",
       " 'accomplish',\n",
       " 'accord',\n",
       " 'accordingly',\n",
       " 'account',\n",
       " 'accountability',\n",
       " 'acct',\n",
       " 'accurate',\n",
       " 'acknowledge',\n",
       " 'across',\n",
       " 'act',\n",
       " 'action',\n",
       " 'actual',\n",
       " 'actually',\n",
       " 'ad',\n",
       " 'add',\n",
       " 'additional',\n",
       " 'address',\n",
       " 'adds',\n",
       " 'addtl',\n",
       " 'admiral',\n",
       " 'admirals',\n",
       " 'admit',\n",
       " 'advance',\n",
       " 'advantage',\n",
       " 'advertise',\n",
       " 'advice',\n",
       " 'advise',\n",
       " 'advisory',\n",
       " 'affect',\n",
       " 'affected',\n",
       " 'afford',\n",
       " 'affordable',\n",
       " 'afternoon',\n",
       " 'age',\n",
       " 'agency',\n",
       " 'agent',\n",
       " 'agents',\n",
       " 'aggressive',\n",
       " 'ago',\n",
       " 'agree',\n",
       " 'agt',\n",
       " 'ah',\n",
       " 'ahead',\n",
       " 'ahhhh',\n",
       " 'ahold',\n",
       " 'ai',\n",
       " 'air',\n",
       " 'airbus',\n",
       " 'aircanada',\n",
       " 'aircraft',\n",
       " 'airfare',\n",
       " 'airline',\n",
       " 'airlinegeeks',\n",
       " 'airlines',\n",
       " 'airplane',\n",
       " 'airport',\n",
       " 'airway',\n",
       " 'airways',\n",
       " 'aisle',\n",
       " 'alaska',\n",
       " 'albany',\n",
       " 'alert',\n",
       " 'ali',\n",
       " 'alive',\n",
       " 'allergy',\n",
       " 'alliance',\n",
       " 'allow',\n",
       " 'allowance',\n",
       " 'almost',\n",
       " 'alone',\n",
       " 'along',\n",
       " 'alot',\n",
       " 'already',\n",
       " 'alright',\n",
       " 'also',\n",
       " 'alternate',\n",
       " 'alternative',\n",
       " 'although',\n",
       " 'altitude',\n",
       " 'always',\n",
       " 'amateur',\n",
       " 'amaze',\n",
       " 'amazing',\n",
       " 'america',\n",
       " 'american',\n",
       " 'americanair',\n",
       " 'americanairlines',\n",
       " 'americanview',\n",
       " 'amex',\n",
       " 'among',\n",
       " 'amount',\n",
       " 'amp',\n",
       " 'amybruni',\n",
       " 'ana',\n",
       " 'andrews',\n",
       " 'angel',\n",
       " 'angry',\n",
       " 'ann',\n",
       " 'annettenaif',\n",
       " 'anniversary',\n",
       " 'announce',\n",
       " 'announcement',\n",
       " 'announces',\n",
       " 'annoy',\n",
       " 'annoyed',\n",
       " 'annricord',\n",
       " 'another',\n",
       " 'answer',\n",
       " 'answerthephone',\n",
       " 'anthony',\n",
       " 'anticipate',\n",
       " 'antonio',\n",
       " 'anxious',\n",
       " 'anybody',\n",
       " 'anymore',\n",
       " 'anyone',\n",
       " 'anything',\n",
       " 'anytime',\n",
       " 'anyway',\n",
       " 'anywhere',\n",
       " 'apart',\n",
       " 'apologize',\n",
       " 'apologizes',\n",
       " 'apology',\n",
       " 'app',\n",
       " 'appalled',\n",
       " 'apparently',\n",
       " 'appear',\n",
       " 'appease',\n",
       " 'apple',\n",
       " 'application',\n",
       " 'apply',\n",
       " 'appointment',\n",
       " 'appreciate',\n",
       " 'appreciates',\n",
       " 'approach',\n",
       " 'appropriate',\n",
       " 'approve',\n",
       " 'approx',\n",
       " 'apps',\n",
       " 'april',\n",
       " 'apt',\n",
       " 'area',\n",
       " 'argue',\n",
       " 'argument',\n",
       " 'arizona',\n",
       " 'around',\n",
       " 'arrange',\n",
       " 'arrangement',\n",
       " 'arrival',\n",
       " 'arrive',\n",
       " 'arrived',\n",
       " 'arrives',\n",
       " 'article',\n",
       " 'aruba',\n",
       " 'asap',\n",
       " 'ase',\n",
       " 'ashamed',\n",
       " 'ask',\n",
       " 'asked',\n",
       " 'askpaypal',\n",
       " 'asks',\n",
       " 'asleep',\n",
       " 'aspen',\n",
       " 'assault',\n",
       " 'asset',\n",
       " 'asshole',\n",
       " 'assign',\n",
       " 'assignment',\n",
       " 'assist',\n",
       " 'assistance',\n",
       " 'assult',\n",
       " 'assume',\n",
       " 'assure',\n",
       " 'atc',\n",
       " 'athlete',\n",
       " 'atl',\n",
       " 'atlanta',\n",
       " 'atlantic',\n",
       " 'atrocious',\n",
       " 'attach',\n",
       " 'attempt',\n",
       " 'attend',\n",
       " 'attendant',\n",
       " 'attention',\n",
       " 'attitude',\n",
       " 'august',\n",
       " 'auh',\n",
       " 'aus',\n",
       " 'austin',\n",
       " 'austinairport',\n",
       " 'australia',\n",
       " 'auto',\n",
       " 'automate',\n",
       " 'automatically',\n",
       " 'autoresponse',\n",
       " 'avail',\n",
       " 'availability',\n",
       " 'available',\n",
       " 'average',\n",
       " 'avgeek',\n",
       " 'aviation',\n",
       " 'avis',\n",
       " 'aviv',\n",
       " 'avoid',\n",
       " 'await',\n",
       " 'award',\n",
       " 'aware',\n",
       " 'away',\n",
       " 'awesome',\n",
       " 'awful',\n",
       " 'awkward',\n",
       " 'aww',\n",
       " 'awww',\n",
       " 'ba',\n",
       " 'baby',\n",
       " 'back',\n",
       " 'backlog',\n",
       " 'backpack',\n",
       " 'backup',\n",
       " 'bad',\n",
       " 'badcustomerservice',\n",
       " 'badge',\n",
       " 'badly',\n",
       " 'badservice',\n",
       " 'bae',\n",
       " 'bag',\n",
       " 'baggage',\n",
       " 'bags',\n",
       " 'bahamas',\n",
       " 'balance',\n",
       " 'ball',\n",
       " 'baltimore',\n",
       " 'ban',\n",
       " 'band',\n",
       " 'bank',\n",
       " 'bankrupt',\n",
       " 'bar',\n",
       " 'barbados',\n",
       " 'barely',\n",
       " 'base',\n",
       " 'basic',\n",
       " 'basically',\n",
       " 'bathroom',\n",
       " 'battery',\n",
       " 'batting',\n",
       " 'battle',\n",
       " 'bay',\n",
       " 'bc',\n",
       " 'bday',\n",
       " 'bdl',\n",
       " 'beach',\n",
       " 'beat',\n",
       " 'beautiful',\n",
       " 'beauty',\n",
       " 'become',\n",
       " 'bed',\n",
       " 'beer',\n",
       " 'begin',\n",
       " 'behavior',\n",
       " 'behind',\n",
       " 'believe',\n",
       " 'belize',\n",
       " 'belonging',\n",
       " 'belt',\n",
       " 'benefit',\n",
       " 'bereavement',\n",
       " 'besides',\n",
       " 'best',\n",
       " 'bestairline',\n",
       " 'bestairlineever',\n",
       " 'bet',\n",
       " 'better',\n",
       " 'beverage',\n",
       " 'beware',\n",
       " 'beyond',\n",
       " 'bf',\n",
       " 'bgr',\n",
       " 'bhm',\n",
       " 'big',\n",
       " 'bike',\n",
       " 'bill',\n",
       " 'billion',\n",
       " 'bin',\n",
       " 'bird',\n",
       " 'birmingham',\n",
       " 'birth',\n",
       " 'birthday',\n",
       " 'bit',\n",
       " 'bitch',\n",
       " 'biz',\n",
       " 'bk',\n",
       " 'black',\n",
       " 'blah',\n",
       " 'blame',\n",
       " 'blanket',\n",
       " 'blasting',\n",
       " 'blatant',\n",
       " 'bless',\n",
       " 'blew',\n",
       " 'block',\n",
       " 'blog',\n",
       " 'bloody',\n",
       " 'blue',\n",
       " 'bluemanity',\n",
       " 'bna',\n",
       " 'board',\n",
       " 'boarding',\n",
       " 'boise',\n",
       " 'bonus',\n",
       " 'boo',\n",
       " 'book',\n",
       " 'booked',\n",
       " 'booking',\n",
       " 'boot',\n",
       " 'booze',\n",
       " 'border',\n",
       " 'bos',\n",
       " 'boston',\n",
       " 'bostonlogan',\n",
       " 'bot',\n",
       " 'bother',\n",
       " 'bottle',\n",
       " 'bought',\n",
       " 'bounce',\n",
       " 'bound',\n",
       " 'bout',\n",
       " 'box',\n",
       " 'boy',\n",
       " 'boyfriend',\n",
       " 'brain',\n",
       " 'brand',\n",
       " 'brandmance',\n",
       " 'break',\n",
       " 'breakfast',\n",
       " 'bridge',\n",
       " 'brilliant',\n",
       " 'bring',\n",
       " 'broke',\n",
       " 'broken',\n",
       " 'brother',\n",
       " 'brothers',\n",
       " 'brought',\n",
       " 'browser',\n",
       " 'bruh',\n",
       " 'brutal',\n",
       " 'bs',\n",
       " 'btw',\n",
       " 'buck',\n",
       " 'buddy',\n",
       " 'buf',\n",
       " 'buffalo',\n",
       " 'bug',\n",
       " 'bull',\n",
       " 'bullshit',\n",
       " 'bummer',\n",
       " 'bump',\n",
       " 'bumped',\n",
       " 'bumping',\n",
       " 'bunch',\n",
       " 'bus',\n",
       " 'bush',\n",
       " 'business',\n",
       " 'bussey',\n",
       " 'busy',\n",
       " 'button',\n",
       " 'buy',\n",
       " 'buying',\n",
       " 'bwi',\n",
       " 'ca',\n",
       " 'cab',\n",
       " 'cabin',\n",
       " 'cabo',\n",
       " 'cake',\n",
       " 'calendar',\n",
       " 'calgary',\n",
       " 'cali',\n",
       " 'california',\n",
       " 'call',\n",
       " 'callback',\n",
       " 'called',\n",
       " 'caller',\n",
       " 'calling',\n",
       " 'camera',\n",
       " 'cana',\n",
       " 'canada',\n",
       " 'canadian',\n",
       " 'cancelled',\n",
       " 'cancun',\n",
       " 'cant',\n",
       " 'capacity',\n",
       " 'captain',\n",
       " 'captive',\n",
       " 'car',\n",
       " 'card',\n",
       " 'care',\n",
       " 'cargo',\n",
       " 'carousel',\n",
       " 'carpet',\n",
       " 'carrier',\n",
       " 'carrieunderwood',\n",
       " 'carry',\n",
       " 'carryon',\n",
       " 'carryons',\n",
       " 'carseat',\n",
       " 'cart',\n",
       " 'case',\n",
       " 'cash',\n",
       " 'cat',\n",
       " 'catch',\n",
       " 'cater',\n",
       " 'catering',\n",
       " 'caught',\n",
       " 'cause',\n",
       " 'cc',\n",
       " 'celebrate',\n",
       " 'cell',\n",
       " 'cellphone',\n",
       " 'center',\n",
       " 'central',\n",
       " 'century',\n",
       " 'ceo',\n",
       " 'cert',\n",
       " 'certain',\n",
       " 'certainly',\n",
       " 'certificate',\n",
       " 'cessna',\n",
       " 'chair',\n",
       " 'chairman',\n",
       " 'challenge',\n",
       " 'chance',\n",
       " 'change',\n",
       " 'channel',\n",
       " 'chaos',\n",
       " 'chapter',\n",
       " 'char',\n",
       " 'character',\n",
       " 'charge',\n",
       " 'charity',\n",
       " 'charleston',\n",
       " 'charlotte',\n",
       " 'charm',\n",
       " 'charter',\n",
       " 'chase',\n",
       " 'chat',\n",
       " 'cheap',\n",
       " 'cheaper',\n",
       " 'cheapflights',\n",
       " 'cheat',\n",
       " 'check',\n",
       " 'checked',\n",
       " 'checkin',\n",
       " 'checkout',\n",
       " 'checkpoint',\n",
       " 'cheer',\n",
       " 'cheers',\n",
       " 'cheese',\n",
       " 'cherry',\n",
       " 'chi',\n",
       " 'chicago',\n",
       " 'chicken',\n",
       " 'child',\n",
       " 'china',\n",
       " 'chocolate',\n",
       " 'choice',\n",
       " 'choose',\n",
       " 'chose',\n",
       " 'chrome',\n",
       " 'circle',\n",
       " 'circumstance',\n",
       " 'city',\n",
       " 'claim',\n",
       " 'claimed',\n",
       " 'clarification',\n",
       " 'clarify',\n",
       " 'class',\n",
       " 'cle',\n",
       " 'clean',\n",
       " 'cleaning',\n",
       " 'clear',\n",
       " 'clearly',\n",
       " 'cleveland',\n",
       " 'click',\n",
       " 'client',\n",
       " 'close',\n",
       " 'closer',\n",
       " 'closest',\n",
       " 'clothes',\n",
       " 'clothing',\n",
       " 'cloud',\n",
       " 'clown',\n",
       " 'clt',\n",
       " 'club',\n",
       " 'clue',\n",
       " 'cluster',\n",
       " 'clutch',\n",
       " 'cmh',\n",
       " 'cmon',\n",
       " 'cnn',\n",
       " 'co',\n",
       " 'coach',\n",
       " 'coast',\n",
       " 'coat',\n",
       " 'cocktail',\n",
       " 'code',\n",
       " 'coffee',\n",
       " 'coincidence',\n",
       " 'cold',\n",
       " 'colleague',\n",
       " 'collection',\n",
       " 'college',\n",
       " 'color',\n",
       " 'columbia',\n",
       " 'columbus',\n",
       " 'combination',\n",
       " 'combine',\n",
       " 'comcast',\n",
       " 'come',\n",
       " 'comedy',\n",
       " 'comfort',\n",
       " 'comfortable',\n",
       " 'comment',\n",
       " 'commercial',\n",
       " 'commit',\n",
       " 'commitment',\n",
       " 'common',\n",
       " 'communicate',\n",
       " 'communication',\n",
       " 'comp',\n",
       " 'companion',\n",
       " 'company',\n",
       " 'compare',\n",
       " 'compassion',\n",
       " 'compensate',\n",
       " 'compensation',\n",
       " 'competitor',\n",
       " 'complain',\n",
       " 'complaint',\n",
       " 'complete',\n",
       " 'completely',\n",
       " 'complicate',\n",
       " 'compliment',\n",
       " 'complimentary',\n",
       " 'computer',\n",
       " 'con',\n",
       " 'concept',\n",
       " 'concern',\n",
       " 'concerned',\n",
       " 'concourse',\n",
       " 'condition',\n",
       " 'conf',\n",
       " 'conference',\n",
       " 'confident',\n",
       " 'confirm',\n",
       " 'confirmation',\n",
       " 'conflict',\n",
       " 'confuse',\n",
       " 'confusion',\n",
       " 'congrats',\n",
       " 'connect',\n",
       " 'connection',\n",
       " 'connector',\n",
       " 'consecutive',\n",
       " 'consider',\n",
       " 'consideration',\n",
       " 'considering',\n",
       " 'consistent',\n",
       " 'consistently',\n",
       " 'constant',\n",
       " 'constantly',\n",
       " 'cont',\n",
       " 'contact',\n",
       " 'content',\n",
       " 'contest',\n",
       " 'continental',\n",
       " 'contingency',\n",
       " 'continually',\n",
       " 'continue',\n",
       " 'continued',\n",
       " 'continuous',\n",
       " 'contract',\n",
       " 'control',\n",
       " 'convenient',\n",
       " 'conversation',\n",
       " 'cool',\n",
       " 'coordinate',\n",
       " 'copy',\n",
       " 'corp',\n",
       " 'corporate',\n",
       " 'corporation',\n",
       " 'correct',\n",
       " 'correctly',\n",
       " 'cost',\n",
       " 'costa',\n",
       " 'costumer',\n",
       " 'cot',\n",
       " 'could',\n",
       " 'couldnt',\n",
       " 'count',\n",
       " 'counter',\n",
       " 'counting',\n",
       " 'country',\n",
       " 'couple',\n",
       " 'coupon',\n",
       " 'course',\n",
       " 'courteous',\n",
       " 'courtesy',\n",
       " 'cousin',\n",
       " 'cover',\n",
       " 'cowboycerrone',\n",
       " 'coworker',\n",
       " 'cr',\n",
       " 'cracker',\n",
       " 'cranky',\n",
       " 'crap',\n",
       " 'crappy',\n",
       " 'crash',\n",
       " 'crashed',\n",
       " 'crazy',\n",
       " 'create',\n",
       " 'creates',\n",
       " 'credit',\n",
       " 'crew',\n",
       " 'crewmember',\n",
       " 'crisis',\n",
       " 'cross',\n",
       " 'crossed',\n",
       " 'crowd',\n",
       " 'cruel',\n",
       " 'cruise',\n",
       " 'cry',\n",
       " 'cs',\n",
       " 'csr',\n",
       " 'ctl',\n",
       " 'cuba',\n",
       " 'cue',\n",
       " 'cun',\n",
       " 'cup',\n",
       " 'curious',\n",
       " 'current',\n",
       " 'currently',\n",
       " 'cushion',\n",
       " 'cust',\n",
       " 'custom',\n",
       " 'customer',\n",
       " 'customerservice',\n",
       " 'customerservicefail',\n",
       " 'custserv',\n",
       " 'cut',\n",
       " 'cute',\n",
       " 'cuz',\n",
       " 'cvg',\n",
       " 'cvgairport',\n",
       " 'cx',\n",
       " 'cxl',\n",
       " 'cxld',\n",
       " 'cycle',\n",
       " 'dad',\n",
       " 'daily',\n",
       " 'dal',\n",
       " 'dallas',\n",
       " 'dallaslovefield',\n",
       " 'damage',\n",
       " 'damn',\n",
       " 'dance',\n",
       " 'dang',\n",
       " 'dare',\n",
       " 'dark',\n",
       " 'darn',\n",
       " 'data',\n",
       " 'date',\n",
       " 'daughter',\n",
       " 'david',\n",
       " 'day',\n",
       " 'daytona',\n",
       " 'dc',\n",
       " 'dca',\n",
       " 'de',\n",
       " 'dead',\n",
       " 'deadhead',\n",
       " 'deaf',\n",
       " 'deal',\n",
       " 'dealt',\n",
       " 'dear',\n",
       " 'death',\n",
       " 'debacle',\n",
       " 'december',\n",
       " 'decent',\n",
       " 'decide',\n",
       " 'decision',\n",
       " 'decisions',\n",
       " 'deep',\n",
       " 'define',\n",
       " 'definitely',\n",
       " 'definition',\n",
       " 'degree',\n",
       " 'deice',\n",
       " 'delay',\n",
       " 'delayed',\n",
       " 'delays',\n",
       " 'delete',\n",
       " 'deliver',\n",
       " 'delivery',\n",
       " 'delta',\n",
       " 'deltaassist',\n",
       " 'den',\n",
       " 'denver',\n",
       " 'deny',\n",
       " 'dep',\n",
       " 'depart',\n",
       " 'department',\n",
       " 'departs',\n",
       " 'departure',\n",
       " 'deplane',\n",
       " 'deplorable',\n",
       " 'dept',\n",
       " 'derrick',\n",
       " 'describe',\n",
       " 'deserve',\n",
       " 'deserves',\n",
       " 'design',\n",
       " 'desk',\n",
       " 'desktop',\n",
       " 'desperately',\n",
       " 'despite',\n",
       " 'dest',\n",
       " 'destination',\n",
       " 'destinationdragons',\n",
       " 'destroyed',\n",
       " 'detail',\n",
       " 'device',\n",
       " 'dfw',\n",
       " 'dfwairport',\n",
       " 'dia',\n",
       " 'dial',\n",
       " 'didnt',\n",
       " 'die',\n",
       " 'diego',\n",
       " 'diff',\n",
       " 'difference',\n",
       " 'different',\n",
       " 'difficult',\n",
       " 'digital',\n",
       " 'dinner',\n",
       " 'direct',\n",
       " 'directly',\n",
       " 'directtv',\n",
       " 'dirty',\n",
       " 'disabled',\n",
       " 'disappear',\n",
       " 'disappoint',\n",
       " 'disappointed',\n",
       " 'disappointing',\n",
       " 'disappointment',\n",
       " 'disaster',\n",
       " 'disconnect',\n",
       " 'discount',\n",
       " 'discover',\n",
       " 'discus',\n",
       " 'disgrace',\n",
       " 'disgraceful',\n",
       " 'disgruntle',\n",
       " 'disgust',\n",
       " 'disgusted',\n",
       " 'dislike',\n",
       " 'disney',\n",
       " 'disorganize',\n",
       " 'dispute',\n",
       " 'disregard',\n",
       " 'disrespect',\n",
       " 'dissatisfied',\n",
       " 'distance',\n",
       " 'div',\n",
       " 'diversion',\n",
       " 'divert',\n",
       " 'dividend',\n",
       " 'dl',\n",
       " 'dm',\n",
       " 'dmed',\n",
       " 'dming',\n",
       " 'dms',\n",
       " 'document',\n",
       " 'doesnt',\n",
       " 'dog',\n",
       " 'dollar',\n",
       " 'domestic',\n",
       " 'done',\n",
       " 'dont',\n",
       " 'door',\n",
       " 'dot',\n",
       " 'double',\n",
       " 'doubt',\n",
       " 'downgrade',\n",
       " 'download',\n",
       " 'downtown',\n",
       " 'dozen',\n",
       " 'dpt',\n",
       " 'dragon',\n",
       " 'dragons',\n",
       " 'draw',\n",
       " 'dream',\n",
       " 'drink',\n",
       " 'drive',\n",
       " 'driven',\n",
       " 'driver',\n",
       " 'drop',\n",
       " 'drove',\n",
       " 'drunk',\n",
       " 'dsm',\n",
       " 'dtw',\n",
       " 'dublin',\n",
       " 'dude',\n",
       " 'due',\n",
       " 'dulles',\n",
       " 'dumb',\n",
       " 'dunno',\n",
       " 'duty',\n",
       " 'earlier',\n",
       " 'early',\n",
       " 'earn',\n",
       " 'earth',\n",
       " 'easily',\n",
       " 'east',\n",
       " 'eastern',\n",
       " 'easy',\n",
       " 'eat',\n",
       " 'econ',\n",
       " 'economy',\n",
       " 'efficient',\n",
       " 'effort',\n",
       " 'either',\n",
       " 'el',\n",
       " 'elevate',\n",
       " 'elite',\n",
       " 'ellahenderson',\n",
       " 'else',\n",
       " 'elsewhere',\n",
       " 'em',\n",
       " 'email',\n",
       " 'embarrass',\n",
       " 'emboss',\n",
       " 'emergency',\n",
       " 'empathy',\n",
       " 'employee',\n",
       " 'empty',\n",
       " 'encounter',\n",
       " 'end',\n",
       " 'enforce',\n",
       " 'engine',\n",
       " 'english',\n",
       " 'enjoy',\n",
       " 'enough',\n",
       " 'enroute',\n",
       " 'ensure',\n",
       " 'enter',\n",
       " 'entertain',\n",
       " 'entertainment',\n",
       " 'entire',\n",
       " 'entirely',\n",
       " 'envoy',\n",
       " 'ep',\n",
       " 'epic',\n",
       " 'epicfail',\n",
       " 'equal',\n",
       " 'equally',\n",
       " 'equipment',\n",
       " 'err',\n",
       " 'error',\n",
       " 'escape',\n",
       " 'esp',\n",
       " 'especially',\n",
       " 'est',\n",
       " 'establish',\n",
       " 'estimate',\n",
       " 'eta',\n",
       " 'etc',\n",
       " 'etihad',\n",
       " 'europe',\n",
       " 'even',\n",
       " 'event',\n",
       " 'eventually',\n",
       " 'ever',\n",
       " 'every',\n",
       " 'everyone',\n",
       " 'everything',\n",
       " 'everytime',\n",
       " 'everywhere',\n",
       " 'evry',\n",
       " 'ewr',\n",
       " 'exact',\n",
       " 'exactly',\n",
       " 'example',\n",
       " 'excellent',\n",
       " 'except',\n",
       " 'exception',\n",
       " 'exceptional',\n",
       " 'exchange',\n",
       " 'excite',\n",
       " 'excited',\n",
       " 'exclusively',\n",
       " 'excuse',\n",
       " 'excuses',\n",
       " 'exec',\n",
       " 'executive',\n",
       " 'exhaust',\n",
       " 'exist',\n",
       " 'existent',\n",
       " 'exit',\n",
       " 'exp',\n",
       " 'expand',\n",
       " 'expect',\n",
       " 'expectation',\n",
       " 'expedia',\n",
       " 'expedite',\n",
       " 'expense',\n",
       " 'expensive',\n",
       " 'experience',\n",
       " 'experienced',\n",
       " 'expire',\n",
       " 'expires',\n",
       " 'explain',\n",
       " 'explanation',\n",
       " 'explorer',\n",
       " 'express',\n",
       " 'extend',\n",
       " 'extension',\n",
       " 'extra',\n",
       " 'extreme',\n",
       " 'extremely',\n",
       " 'eye',\n",
       " 'eyw',\n",
       " 'fa',\n",
       " 'faa',\n",
       " 'faanews',\n",
       " 'fabulous',\n",
       " 'face',\n",
       " 'facebook',\n",
       " 'fact',\n",
       " 'fail',\n",
       " 'fails',\n",
       " 'failure',\n",
       " 'fair',\n",
       " 'faith',\n",
       " 'faithful',\n",
       " 'fall',\n",
       " 'falls',\n",
       " 'false',\n",
       " 'fam',\n",
       " 'family',\n",
       " 'fan',\n",
       " 'fantastic',\n",
       " 'far',\n",
       " 'fare',\n",
       " 'farecompare',\n",
       " 'fast',\n",
       " 'faster',\n",
       " 'fat',\n",
       " 'father',\n",
       " 'fault',\n",
       " 'fav',\n",
       " 'fave',\n",
       " 'favor',\n",
       " 'favorite',\n",
       " 'fb',\n",
       " 'fc',\n",
       " 'fear',\n",
       " 'feature',\n",
       " 'feb',\n",
       " 'february',\n",
       " 'fed',\n",
       " 'fee',\n",
       " 'feed',\n",
       " 'feedback',\n",
       " 'feel',\n",
       " 'fell',\n",
       " 'felt',\n",
       " 'ff',\n",
       " ...]"
      ]
     },
     "execution_count": 39,
     "metadata": {},
     "output_type": "execute_result"
    }
   ],
   "source": [
    "x_test = count_vec.transform(test_text_docs)\n",
    "count_vec.get_feature_names()"
   ]
  },
  {
   "cell_type": "code",
   "execution_count": 40,
   "metadata": {},
   "outputs": [],
   "source": [
    "# mat = x_train.todense()"
   ]
  },
  {
   "cell_type": "code",
   "execution_count": 41,
   "metadata": {},
   "outputs": [],
   "source": [
    "# mat[5000,333]"
   ]
  },
  {
   "cell_type": "code",
   "execution_count": 42,
   "metadata": {},
   "outputs": [],
   "source": [
    "from sklearn import svm\n",
    "from sklearn.metrics import accuracy_score\n",
    "import numpy as np"
   ]
  },
  {
   "cell_type": "code",
   "execution_count": 43,
   "metadata": {},
   "outputs": [],
   "source": [
    "ytrain = np.reshape(categories, (10980,)).T"
   ]
  },
  {
   "cell_type": "code",
   "execution_count": 44,
   "metadata": {},
   "outputs": [],
   "source": [
    "################################\n",
    "###############################\n",
    "from sklearn.model_selection import train_test_split\n",
    "\n",
    "xtr , xte , ytr , yte = train_test_split(x_train , ytrain)"
   ]
  },
  {
   "cell_type": "code",
   "execution_count": 46,
   "metadata": {},
   "outputs": [
    {
     "data": {
      "text/plain": [
       "(8235, 3000)"
      ]
     },
     "execution_count": 46,
     "metadata": {},
     "output_type": "execute_result"
    }
   ],
   "source": [
    "xtr.shape"
   ]
  },
  {
   "cell_type": "code",
   "execution_count": 47,
   "metadata": {},
   "outputs": [
    {
     "data": {
      "text/plain": [
       "<1x3000 sparse matrix of type '<class 'numpy.int64'>'\n",
       "\twith 11 stored elements in Compressed Sparse Row format>"
      ]
     },
     "execution_count": 47,
     "metadata": {},
     "output_type": "execute_result"
    }
   ],
   "source": [
    "x_train[0:1]"
   ]
  },
  {
   "cell_type": "code",
   "execution_count": 48,
   "metadata": {},
   "outputs": [],
   "source": [
    "# svmclf = svm.SVC()\n",
    "# svmclf.fit(x_train,ytrain)\n",
    "# from sklearn.ensemble import RandomForestClassifier\n",
    "# rfc = RandomForestClassifier()\n",
    "# from sklearn.neural_network import MLPClassifier\n",
    "# rfc = MLPClassifier(hidden_layer_sizes=(200,20,10),max_iter=300)\n",
    "from sklearn.naive_bayes import MultinomialNB\n",
    "NBC = MultinomialNB()\n",
    "# from sklearn.tree import ExtraTreeClassifier\n",
    "# rfc = ExtraTreeClassifier()"
   ]
  },
  {
   "cell_type": "code",
   "execution_count": 49,
   "metadata": {},
   "outputs": [
    {
     "data": {
      "text/plain": [
       "MultinomialNB(alpha=1.0, class_prior=None, fit_prior=True)"
      ]
     },
     "execution_count": 49,
     "metadata": {},
     "output_type": "execute_result"
    }
   ],
   "source": [
    "NBC.fit(xtr,ytr)"
   ]
  },
  {
   "cell_type": "code",
   "execution_count": 50,
   "metadata": {},
   "outputs": [],
   "source": [
    "pred = NBC.predict(xte)"
   ]
  },
  {
   "cell_type": "code",
   "execution_count": 51,
   "metadata": {},
   "outputs": [],
   "source": [
    "from sklearn.metrics import accuracy_score"
   ]
  },
  {
   "cell_type": "code",
   "execution_count": 52,
   "metadata": {},
   "outputs": [
    {
     "data": {
      "text/plain": [
       "0.7621129326047359"
      ]
     },
     "execution_count": 52,
     "metadata": {},
     "output_type": "execute_result"
    }
   ],
   "source": [
    "accuracy_score(yte , pred)"
   ]
  },
  {
   "cell_type": "code",
   "execution_count": 53,
   "metadata": {},
   "outputs": [
    {
     "data": {
      "text/plain": [
       "(3660, 3000)"
      ]
     },
     "execution_count": 53,
     "metadata": {},
     "output_type": "execute_result"
    }
   ],
   "source": [
    "x_test.shape"
   ]
  },
  {
   "cell_type": "code",
   "execution_count": 59,
   "metadata": {},
   "outputs": [],
   "source": [
    "# svmpred = NBC.predict(x_test)\n",
    "target_names = set(ytr)"
   ]
  },
  {
   "cell_type": "code",
   "execution_count": 54,
   "metadata": {},
   "outputs": [],
   "source": [
    "from sklearn.metrics import classification_report as cr"
   ]
  },
  {
   "cell_type": "code",
   "execution_count": 55,
   "metadata": {},
   "outputs": [
    {
     "name": "stdout",
     "output_type": "stream",
     "text": [
      "              precision    recall  f1-score   support\n",
      "\n",
      "    negative       0.82      0.88      0.85      1679\n",
      "     neutral       0.61      0.52      0.56       580\n",
      "    positive       0.70      0.63      0.67       486\n",
      "\n",
      "   micro avg       0.76      0.76      0.76      2745\n",
      "   macro avg       0.71      0.68      0.69      2745\n",
      "weighted avg       0.75      0.76      0.76      2745\n",
      "\n"
     ]
    }
   ],
   "source": [
    "print(cr(yte, pred))"
   ]
  },
  {
   "cell_type": "code",
   "execution_count": 61,
   "metadata": {},
   "outputs": [],
   "source": [
    "#Confusion matrix........\n",
    "from sklearn.metrics import confusion_matrix\n",
    "import matplotlib.pyplot as plt\n",
    "from sklearn.utils.multiclass import unique_labels"
   ]
  },
  {
   "cell_type": "code",
   "execution_count": 66,
   "metadata": {},
   "outputs": [
    {
     "name": "stdout",
     "output_type": "stream",
     "text": [
      "Normalized confusion matrix\n",
      "[[0.88 0.07 0.04]\n",
      " [0.38 0.52 0.09]\n",
      " [0.23 0.14 0.63]]\n"
     ]
    },
    {
     "data": {
      "image/png": "[encoded data removed]",
      "text/plain": [
       "<Figure size 432x288 with 2 Axes>"
      ]
     },
     "metadata": {
      "needs_background": "light"
     },
     "output_type": "display_data"
    }
   ],
   "source": [
    "def plot_confusion_matrix(y_true, y_pred, classes,\n",
    "                          normalize=False,\n",
    "                          title=None,\n",
    "                          cmap=plt.cm.Blues):\n",
    "    \"\"\"\n",
    "    This function prints and plots the confusion matrix.\n",
    "    Normalization can be applied by setting `normalize=True`.\n",
    "    \"\"\"\n",
    "    if not title:\n",
    "        if normalize:\n",
    "            title = 'Normalized confusion matrix'\n",
    "        else:\n",
    "            title = 'Confusion matrix, without normalization'\n",
    "\n",
    "    # Compute confusion matrix\n",
    "    cm = confusion_matrix(y_true, y_pred)\n",
    "    # Only use the labels that appear in the data\n",
    "#     classes = classes[unique_labels(y_true, y_pred)]\n",
    "    if normalize:\n",
    "        cm = cm.astype('float') / cm.sum(axis=1)[:, np.newaxis]\n",
    "        print(\"Normalized confusion matrix\")\n",
    "    else:\n",
    "        print('Confusion matrix, without normalization')\n",
    "\n",
    "    print(cm)\n",
    "\n",
    "    fig, ax = plt.subplots()\n",
    "    im = ax.imshow(cm, interpolation='nearest', cmap=cmap)\n",
    "    ax.figure.colorbar(im, ax=ax)\n",
    "    # We want to show all ticks...\n",
    "    ax.set(xticks=np.arange(cm.shape[1]),\n",
    "           yticks=np.arange(cm.shape[0]),\n",
    "           # ... and label them with the respective list entries\n",
    "           xticklabels=classes, yticklabels=classes,\n",
    "           title=title,\n",
    "           ylabel='True label',\n",
    "           xlabel='Predicted label')\n",
    "\n",
    "    # Rotate the tick labels and set their alignment.\n",
    "    plt.setp(ax.get_xticklabels(), rotation=45, ha=\"right\",\n",
    "             rotation_mode=\"anchor\")\n",
    "\n",
    "    # Loop over data dimensions and create text annotations.\n",
    "    fmt = '.2f' if normalize else 'd'\n",
    "    thresh = cm.max() / 2.\n",
    "    for i in range(cm.shape[0]):\n",
    "        for j in range(cm.shape[1]):\n",
    "            ax.text(j, i, format(cm[i, j], fmt),\n",
    "                    ha=\"center\", va=\"center\",\n",
    "                    color=\"white\" if cm[i, j] > thresh else \"black\")\n",
    "    fig.tight_layout()\n",
    "    return ax\n",
    "\n",
    "\n",
    "np.set_printoptions(precision=2)\n",
    "\n",
    "plot_confusion_matrix(yte, pred, classes=target_names, normalize=True,\n",
    "                      title='Normalized confusion matrix')\n",
    "\n",
    "plt.show()\n"
   ]
  },
  {
   "cell_type": "code",
   "execution_count": null,
   "metadata": {},
   "outputs": [],
   "source": [
    "import csv\n",
    "\n",
    "\n",
    "with open('output.csv', 'w') as csvFile:\n",
    "    writer = csv.writer(csvFile,delimiter=\",\")\n",
    "    for r in svmpred:\n",
    "      writer.writerow([r])"
   ]
  },
  {
   "cell_type": "code",
   "execution_count": null,
   "metadata": {},
   "outputs": [],
   "source": [
    "from nltk import NaiveBayesClassifier\n"
   ]
  },
  {
   "cell_type": "code",
   "execution_count": null,
   "metadata": {},
   "outputs": [],
   "source": []
  },
  {
   "cell_type": "code",
   "execution_count": null,
   "metadata": {},
   "outputs": [],
   "source": []
  }
 ],
 "metadata": {
  "kernelspec": {
   "display_name": "Python 3",
   "language": "python",
   "name": "python3"
  },
  "language_info": {
   "codemirror_mode": {
    "name": "ipython",
    "version": 3
   },
   "file_extension": ".py",
   "mimetype": "text/x-python",
   "name": "python",
   "nbconvert_exporter": "python",
   "pygments_lexer": "ipython3",
   "version": "3.7.3"
  }
 },
 "nbformat": 4,
 "nbformat_minor": 2
}
